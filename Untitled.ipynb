{
 "cells": [
  {
   "cell_type": "code",
   "execution_count": 14,
   "metadata": {},
   "outputs": [
    {
     "name": "stdout",
     "output_type": "stream",
     "text": [
      "On branch master\n",
      "Your branch is up to date with 'origin/master'.\n",
      "\n",
      "Changes to be committed:\n",
      "  (use \"git reset HEAD <file>...\" to unstage)\n",
      "\n",
      "\t\u001b[32mmodified:   agents/base.py\u001b[m\n",
      "\t\u001b[32mmodified:   continuum/dataset_scripts/d20220331.py\u001b[m\n",
      "\t\u001b[32mmodified:   experiment/run.py\u001b[m\n",
      "\t\u001b[32mmodified:   general_main.py\u001b[m\n",
      "\n",
      "Changes not staged for commit:\n",
      "  (use \"git add <file>...\" to update what will be committed)\n",
      "  (use \"git checkout -- <file>...\" to discard changes in working directory)\n",
      "\n",
      "\t\u001b[31mmodified:   agents/__pycache__/__init__.cpython-36.pyc\u001b[m\n",
      "\t\u001b[31mmodified:   agents/__pycache__/agem.cpython-36.pyc\u001b[m\n",
      "\t\u001b[31mmodified:   agents/__pycache__/base.cpython-36.pyc\u001b[m\n",
      "\t\u001b[31mmodified:   agents/__pycache__/cndpm.cpython-36.pyc\u001b[m\n",
      "\t\u001b[31mmodified:   agents/__pycache__/ewc_pp.cpython-36.pyc\u001b[m\n",
      "\t\u001b[31mmodified:   agents/__pycache__/exp_replay.cpython-36.pyc\u001b[m\n",
      "\t\u001b[31mmodified:   agents/__pycache__/gdumb.cpython-36.pyc\u001b[m\n",
      "\t\u001b[31mmodified:   agents/__pycache__/icarl.cpython-36.pyc\u001b[m\n",
      "\t\u001b[31mmodified:   agents/__pycache__/lwf.cpython-36.pyc\u001b[m\n",
      "\t\u001b[31mmodified:   agents/__pycache__/scr.cpython-36.pyc\u001b[m\n",
      "\t\u001b[31mmodified:   continuum/__pycache__/__init__.cpython-36.pyc\u001b[m\n",
      "\t\u001b[31mmodified:   continuum/__pycache__/data_utils.cpython-36.pyc\u001b[m\n",
      "\t\u001b[31mmodified:   continuum/__pycache__/non_stationary.cpython-36.pyc\u001b[m\n",
      "\t\u001b[31mmodified:   continuum/dataset_scripts/__pycache__/__init__.cpython-36.pyc\u001b[m\n",
      "\t\u001b[31mmodified:   continuum/dataset_scripts/__pycache__/cifar10.cpython-36.pyc\u001b[m\n",
      "\t\u001b[31mmodified:   continuum/dataset_scripts/__pycache__/cifar100.cpython-36.pyc\u001b[m\n",
      "\t\u001b[31mmodified:   continuum/dataset_scripts/__pycache__/core50.cpython-36.pyc\u001b[m\n",
      "\t\u001b[31mmodified:   continuum/dataset_scripts/__pycache__/d20220331.cpython-36.pyc\u001b[m\n",
      "\t\u001b[31mmodified:   continuum/dataset_scripts/__pycache__/dataset_base.cpython-36.pyc\u001b[m\n",
      "\t\u001b[31mmodified:   continuum/dataset_scripts/__pycache__/mini_imagenet.cpython-36.pyc\u001b[m\n",
      "\t\u001b[31mmodified:   continuum/dataset_scripts/__pycache__/openloris.cpython-36.pyc\u001b[m\n",
      "\t\u001b[31mmodified:   experiment/__pycache__/__init__.cpython-36.pyc\u001b[m\n",
      "\t\u001b[31mmodified:   experiment/__pycache__/metrics.cpython-36.pyc\u001b[m\n",
      "\t\u001b[31mmodified:   experiment/__pycache__/run.cpython-36.pyc\u001b[m\n",
      "\t\u001b[31mmodified:   experiment/__pycache__/tune_hyperparam.cpython-36.pyc\u001b[m\n",
      "\t\u001b[31mmodified:   models/__pycache__/__init__.cpython-36.pyc\u001b[m\n",
      "\t\u001b[31mmodified:   models/__pycache__/resnet.cpython-36.pyc\u001b[m\n",
      "\t\u001b[31mmodified:   models/ndpm/__pycache__/__init__.cpython-36.pyc\u001b[m\n",
      "\t\u001b[31mmodified:   models/ndpm/__pycache__/classifier.cpython-36.pyc\u001b[m\n",
      "\t\u001b[31mmodified:   models/ndpm/__pycache__/component.cpython-36.pyc\u001b[m\n",
      "\t\u001b[31mmodified:   models/ndpm/__pycache__/expert.cpython-36.pyc\u001b[m\n",
      "\t\u001b[31mmodified:   models/ndpm/__pycache__/loss.cpython-36.pyc\u001b[m\n",
      "\t\u001b[31mmodified:   models/ndpm/__pycache__/ndpm.cpython-36.pyc\u001b[m\n",
      "\t\u001b[31mmodified:   models/ndpm/__pycache__/priors.cpython-36.pyc\u001b[m\n",
      "\t\u001b[31mmodified:   models/ndpm/__pycache__/utils.cpython-36.pyc\u001b[m\n",
      "\t\u001b[31mmodified:   models/ndpm/__pycache__/vae.cpython-36.pyc\u001b[m\n",
      "\t\u001b[31mmodified:   utils/__pycache__/__init__.cpython-36.pyc\u001b[m\n",
      "\t\u001b[31mmodified:   utils/__pycache__/global_vars.cpython-36.pyc\u001b[m\n",
      "\t\u001b[31mmodified:   utils/__pycache__/io.cpython-36.pyc\u001b[m\n",
      "\t\u001b[31mmodified:   utils/__pycache__/kd_manager.cpython-36.pyc\u001b[m\n",
      "\t\u001b[31mmodified:   utils/__pycache__/loss.cpython-36.pyc\u001b[m\n",
      "\t\u001b[31mmodified:   utils/__pycache__/name_match.cpython-36.pyc\u001b[m\n",
      "\t\u001b[31mmodified:   utils/__pycache__/setup_elements.cpython-36.pyc\u001b[m\n",
      "\t\u001b[31mmodified:   utils/__pycache__/utils.cpython-36.pyc\u001b[m\n",
      "\t\u001b[31mmodified:   utils/buffer/__pycache__/__init__.cpython-36.pyc\u001b[m\n",
      "\t\u001b[31mmodified:   utils/buffer/__pycache__/aser_retrieve.cpython-36.pyc\u001b[m\n",
      "\t\u001b[31mmodified:   utils/buffer/__pycache__/aser_update.cpython-36.pyc\u001b[m\n",
      "\t\u001b[31mmodified:   utils/buffer/__pycache__/aser_utils.cpython-36.pyc\u001b[m\n",
      "\t\u001b[31mmodified:   utils/buffer/__pycache__/buffer.cpython-36.pyc\u001b[m\n",
      "\t\u001b[31mmodified:   utils/buffer/__pycache__/buffer_utils.cpython-36.pyc\u001b[m\n",
      "\t\u001b[31mmodified:   utils/buffer/__pycache__/gss_greedy_update.cpython-36.pyc\u001b[m\n",
      "\t\u001b[31mmodified:   utils/buffer/__pycache__/mem_match.cpython-36.pyc\u001b[m\n",
      "\t\u001b[31mmodified:   utils/buffer/__pycache__/mir_retrieve.cpython-36.pyc\u001b[m\n",
      "\t\u001b[31mmodified:   utils/buffer/__pycache__/random_retrieve.cpython-36.pyc\u001b[m\n",
      "\t\u001b[31mmodified:   utils/buffer/__pycache__/reservoir_update.cpython-36.pyc\u001b[m\n",
      "\t\u001b[31mmodified:   utils/buffer/__pycache__/sc_retrieve.cpython-36.pyc\u001b[m\n",
      "\n",
      "Untracked files:\n",
      "  (use \"git add <file>...\" to include in what will be committed)\n",
      "\n",
      "\t\u001b[31m.ipynb_checkpoints/\u001b[m\n",
      "\t\u001b[31mUntitled.ipynb\u001b[m\n",
      "\t\u001b[31mdatasets/\u001b[m\n",
      "\t\u001b[31mresult/\u001b[m\n",
      "\n"
     ]
    }
   ],
   "source": [
    "!git status"
   ]
  },
  {
   "cell_type": "code",
   "execution_count": 2,
   "metadata": {},
   "outputs": [
    {
     "name": "stdout",
     "output_type": "stream",
     "text": [
      "origin\thttps://github.com/jack880121/online-continual-learning.git (fetch)\r\n",
      "origin\thttps://github.com/jack880121/online-continual-learning.git (push)\r\n"
     ]
    }
   ],
   "source": [
    "!git remote -v"
   ]
  },
  {
   "cell_type": "code",
   "execution_count": 3,
   "metadata": {},
   "outputs": [],
   "source": [
    "!git config --global user.name \"jack\"\n",
    "!git config --global user.email 'jack880121@yahoo.com.tw'"
   ]
  },
  {
   "cell_type": "code",
   "execution_count": 13,
   "metadata": {},
   "outputs": [],
   "source": [
    "!git add agents/base.py\n",
    "#!git add agents/scr.py\n",
    "!git add experiment/run.py \n",
    "!git add continuum/dataset_scripts/d20220331.py\n",
    "!git add general_main.py"
   ]
  },
  {
   "cell_type": "code",
   "execution_count": 15,
   "metadata": {},
   "outputs": [
    {
     "name": "stdout",
     "output_type": "stream",
     "text": [
      "[master d898220] method A&B\r\n",
      " 4 files changed, 5 insertions(+), 4 deletions(-)\r\n"
     ]
    }
   ],
   "source": [
    "!git commit -m 'method A&B'"
   ]
  },
  {
   "cell_type": "code",
   "execution_count": 16,
   "metadata": {},
   "outputs": [
    {
     "name": "stdout",
     "output_type": "stream",
     "text": [
      "Username for 'https://github.com': ^C\n"
     ]
    }
   ],
   "source": [
    "!git push"
   ]
  },
  {
   "cell_type": "code",
   "execution_count": 17,
   "metadata": {},
   "outputs": [],
   "source": [
    "!git config --global credential.helper store"
   ]
  },
  {
   "cell_type": "code",
   "execution_count": null,
   "metadata": {},
   "outputs": [],
   "source": []
  }
 ],
 "metadata": {
  "kernelspec": {
   "display_name": "Python 3",
   "language": "python",
   "name": "python3"
  },
  "language_info": {
   "codemirror_mode": {
    "name": "ipython",
    "version": 3
   },
   "file_extension": ".py",
   "mimetype": "text/x-python",
   "name": "python",
   "nbconvert_exporter": "python",
   "pygments_lexer": "ipython3",
   "version": "3.6.9"
  }
 },
 "nbformat": 4,
 "nbformat_minor": 2
}
